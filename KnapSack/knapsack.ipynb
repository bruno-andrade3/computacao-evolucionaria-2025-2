{
 "cells": [
  {
   "cell_type": "code",
   "execution_count": 396,
   "id": "d0217e45",
   "metadata": {},
   "outputs": [],
   "source": [
    "import time\n",
    "import numpy as np"
   ]
  },
  {
   "cell_type": "code",
   "execution_count": 397,
   "id": "8690c361",
   "metadata": {},
   "outputs": [],
   "source": [
    "pesos_dos_objetos = np.array([350, 250, 160, 120, 200, 100, 120, 220, 40, 80, 100, 300, 180, 250, 220, 150, 280, 310, 120, 160, 110, 210])\n",
    "valor_dos_objetos = np.array([300, 400, 450, 350, 250, 300, 200, 250, 150, 400, 350, 300, 450, 500, 350, 400, 200, 300, 250, 300, 150, 200])"
   ]
  },
  {
   "cell_type": "code",
   "execution_count": 398,
   "id": "7a96e802",
   "metadata": {},
   "outputs": [
    {
     "name": "stdout",
     "output_type": "stream",
     "text": [
      "tamanho da populacao: 10\n",
      "tamanho do genoma: 22\n",
      "taxa de mutacao: 0.05\n",
      "peso maximo: 3000\n"
     ]
    }
   ],
   "source": [
    "PESO_MAX = 3000\n",
    "tamanho_da_populacao = 10\n",
    "tamanho_do_genoma = np.size(pesos_dos_objetos)\n",
    "taxa_de_mutacao = 0.05\n",
    "\n",
    "print(f\"tamanho da populacao: {tamanho_da_populacao}\")\n",
    "print(f\"tamanho do genoma: {tamanho_do_genoma}\")\n",
    "print(f\"taxa de mutacao: {taxa_de_mutacao}\")\n",
    "print(f\"peso maximo: {PESO_MAX}\")"
   ]
  },
  {
   "cell_type": "code",
   "execution_count": 399,
   "id": "38f25757",
   "metadata": {},
   "outputs": [],
   "source": [
    "def gera_populacao(tamanho_da_populacao, tamanho_do_genoma):\n",
    "    return np.random.randint(2, size=(tamanho_da_populacao, tamanho_do_genoma))"
   ]
  },
  {
   "cell_type": "code",
   "execution_count": 400,
   "id": "714e7f72",
   "metadata": {},
   "outputs": [],
   "source": [
    "def fitness(populacao):\n",
    "    pesos = np.dot(populacao, pesos_dos_objetos)\n",
    "    print(pesos)\n",
    "    soma_dos_pesos = np.sum(pesos)\n",
    "    compare = pesos > np.full_like(np.shape(pesos), PESO_MAX)\n",
    "    print(int(compare))\n",
    "\n",
    "    valores = np.dot(populacao, valor_dos_objetos)\n",
    "    valores = compare * valores\n",
    "    soma_dos_valores = np.sum(valores)\n",
    "\n",
    "    #if (pesos > PESO_MAX):\n",
    "        \n",
    "\n",
    "\n",
    "\n",
    "    return pesos, valores"
   ]
  },
  {
   "cell_type": "code",
   "execution_count": 401,
   "id": "8a5fd6a0",
   "metadata": {},
   "outputs": [
    {
     "name": "stdout",
     "output_type": "stream",
     "text": [
      "[1130 2150 1490 2100 2010 1420 2080 2090 2090 2330]\n"
     ]
    },
    {
     "ename": "TypeError",
     "evalue": "only length-1 arrays can be converted to Python scalars",
     "output_type": "error",
     "traceback": [
      "\u001b[31m---------------------------------------------------------------------------\u001b[39m",
      "\u001b[31mTypeError\u001b[39m                                 Traceback (most recent call last)",
      "\u001b[36mCell\u001b[39m\u001b[36m \u001b[39m\u001b[32mIn[401]\u001b[39m\u001b[32m, line 5\u001b[39m\n\u001b[32m      1\u001b[39m inicio= time.time()\n\u001b[32m      3\u001b[39m populacao = gera_populacao(tamanho_da_populacao, tamanho_do_genoma)\n\u001b[32m----> \u001b[39m\u001b[32m5\u001b[39m fitness = \u001b[43mfitness\u001b[49m\u001b[43m(\u001b[49m\u001b[43mpopulacao\u001b[49m\u001b[43m)\u001b[49m\n\u001b[32m      6\u001b[39m \u001b[38;5;28mprint\u001b[39m(\u001b[33mf\u001b[39m\u001b[33m\"\u001b[39m\u001b[33mPopulação inicial: \u001b[39m\u001b[38;5;132;01m{\u001b[39;00mpopulacao\u001b[38;5;132;01m}\u001b[39;00m\u001b[33m\"\u001b[39m)\n\u001b[32m      7\u001b[39m \u001b[38;5;28mprint\u001b[39m(\u001b[33mf\u001b[39m\u001b[33m\"\u001b[39m\u001b[33mFitness inicial: \u001b[39m\u001b[38;5;132;01m{\u001b[39;00mfitness\u001b[38;5;132;01m}\u001b[39;00m\u001b[33m\"\u001b[39m)\n",
      "\u001b[36mCell\u001b[39m\u001b[36m \u001b[39m\u001b[32mIn[400]\u001b[39m\u001b[32m, line 6\u001b[39m, in \u001b[36mfitness\u001b[39m\u001b[34m(populacao)\u001b[39m\n\u001b[32m      4\u001b[39m soma_dos_pesos = np.sum(pesos)\n\u001b[32m      5\u001b[39m compare = pesos > np.full_like(np.shape(pesos), PESO_MAX)\n\u001b[32m----> \u001b[39m\u001b[32m6\u001b[39m \u001b[38;5;28mprint\u001b[39m(\u001b[38;5;28;43mint\u001b[39;49m\u001b[43m(\u001b[49m\u001b[43mcompare\u001b[49m\u001b[43m)\u001b[49m)\n\u001b[32m      8\u001b[39m valores = np.dot(populacao, valor_dos_objetos)\n\u001b[32m      9\u001b[39m valores = compare * valores\n",
      "\u001b[31mTypeError\u001b[39m: only length-1 arrays can be converted to Python scalars"
     ]
    }
   ],
   "source": [
    "inicio= time.time()\n",
    "\n",
    "populacao = gera_populacao(tamanho_da_populacao, tamanho_do_genoma)\n",
    "\n",
    "fitness = fitness(populacao)\n",
    "print(f\"População inicial: {populacao}\")\n",
    "print(f\"Fitness inicial: {fitness}\")\n",
    "\n",
    "fim = time.time()\n",
    "delta = fim - inicio\n",
    "\n",
    "print(f\"{delta} segundos\")"
   ]
  }
 ],
 "metadata": {
  "kernelspec": {
   "display_name": "venv",
   "language": "python",
   "name": "python3"
  },
  "language_info": {
   "codemirror_mode": {
    "name": "ipython",
    "version": 3
   },
   "file_extension": ".py",
   "mimetype": "text/x-python",
   "name": "python",
   "nbconvert_exporter": "python",
   "pygments_lexer": "ipython3",
   "version": "3.13.5"
  }
 },
 "nbformat": 4,
 "nbformat_minor": 5
}
