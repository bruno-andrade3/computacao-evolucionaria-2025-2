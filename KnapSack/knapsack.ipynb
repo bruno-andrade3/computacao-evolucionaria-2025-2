{
 "cells": [
  {
   "cell_type": "code",
   "execution_count": 114,
   "id": "d0217e45",
   "metadata": {},
   "outputs": [],
   "source": [
    "import time\n",
    "import numpy as np"
   ]
  },
  {
   "cell_type": "code",
   "execution_count": 115,
   "id": "8690c361",
   "metadata": {},
   "outputs": [],
   "source": [
    "pesos_dos_objetos = np.array([350, 250, 160, 120, 200, 100, 120, 220, 40, 80, 100, 300, 180, 250, 220, 150, 280, 310, 120, 160, 110, 210])\n",
    "valor_dos_objetos = np.array([300, 400, 450, 350, 250, 300, 200, 250, 150, 400, 350, 300, 450, 500, 350, 400, 200, 300, 250, 300, 150, 200])"
   ]
  },
  {
   "cell_type": "code",
   "execution_count": 116,
   "id": "7a96e802",
   "metadata": {},
   "outputs": [],
   "source": [
    "PESO_MAX = 3000\n",
    "tamanho_do_genoma = len(pesos_dos_objetos)\n",
    "tamanho_da_populacao = 10\n",
    "taxa_de_mutacao = 0.05\n",
    "geracoes = 1000 #Mudar se demorar muito pra rodar\n",
    "tamanho_torneio = 3"
   ]
  },
  {
   "cell_type": "code",
   "execution_count": 117,
   "id": "38f25757",
   "metadata": {},
   "outputs": [],
   "source": [
    "populacao = np.random.randint(2, size=(tamanho_da_populacao, tamanho_do_genoma))"
   ]
  },
  {
   "cell_type": "code",
   "execution_count": 118,
   "id": "8a5fd6a0",
   "metadata": {},
   "outputs": [
    {
     "name": "stdout",
     "output_type": "stream",
     "text": [
      "=== Melhor Solução Encontrada ===\n",
      "Itens escolhidos: [ 1  2  3  4  5  6  7  8  9 10 12 13 14 15 17 18 19 21]\n",
      "Peso total: 2990 g\n",
      "Valor total: 5850\n",
      "Geração em que foi encontrada: 152\n",
      "Tempo de execução: 0.54 segundos\n"
     ]
    }
   ],
   "source": [
    "def fitness(individuo):\n",
    "    peso_total = np.dot(individuo, pesos_dos_objetos)\n",
    "    valor_total = np.dot(individuo, valor_dos_objetos)\n",
    "    if peso_total > PESO_MAX:\n",
    "        return 0  # Soluções inválidas\n",
    "    return valor_total\n",
    "    \n",
    "\n",
    "def selecao_por_torneio(populacao, aptidoes):\n",
    "    competidores = np.random.choice(len(populacao), tamanho_torneio, replace=False)\n",
    "    melhor = competidores[np.argmax(aptidoes[competidores])]\n",
    "    return populacao[melhor]\n",
    "\n",
    "def crossover(pai, mae):\n",
    "    ponto = np.random.randint(1, tamanho_do_genoma-1)\n",
    "    filho1 = np.concatenate((pai[:ponto], mae[ponto:]))\n",
    "    filho2 = np.concatenate((mae[:ponto], pai[ponto:]))\n",
    "    return filho1, filho2\n",
    "\n",
    "def mutacao(individuo):\n",
    "    for i in range(tamanho_do_genoma):\n",
    "        if np.random.rand() < taxa_de_mutacao:\n",
    "            individuo[i] = 1 - individuo[i]\n",
    "    return individuo\n",
    "\n",
    "\n",
    "inicio= time.time()\n",
    "\n",
    "populacao = np.random.randint(2, size=(tamanho_da_populacao, tamanho_do_genoma))\n",
    "\n",
    "melhor_valor = 0\n",
    "melhor_solucao = None\n",
    "geracao_melhor = 0\n",
    "\n",
    "for g in range(geracoes):\n",
    "    aptidoes = np.array([fitness(ind) for ind in populacao])\n",
    "    \n",
    "    # Guardar melhor solução\n",
    "    max_fit = np.max(aptidoes)\n",
    "    if max_fit > melhor_valor:\n",
    "        melhor_valor = max_fit\n",
    "        melhor_solucao = populacao[np.argmax(aptidoes)].copy()\n",
    "        geracao_melhor = g\n",
    "    \n",
    "    nova_populacao = []\n",
    "    while len(nova_populacao) < tamanho_da_populacao:\n",
    "        pai1 = selecao_por_torneio(populacao, aptidoes)\n",
    "        pai2 = selecao_por_torneio(populacao, aptidoes)\n",
    "        filho1, filho2 = crossover(pai1, pai2)\n",
    "        filho1 = mutacao(filho1)\n",
    "        filho2 = mutacao(filho2)\n",
    "        nova_populacao.append(filho1)\n",
    "        nova_populacao.append(filho2)\n",
    "    \n",
    "    populacao = np.array(nova_populacao[:tamanho_da_populacao])\n",
    "\n",
    "fim = time.time()\n",
    "\n",
    "#RESULTADOS\n",
    "\n",
    "itens_escolhidos = np.where(melhor_solucao == 1)[0]\n",
    "peso_total = np.dot(melhor_solucao, pesos_dos_objetos)\n",
    "\n",
    "print(\"=== Melhor Solução Encontrada ===\")\n",
    "print(f\"Itens escolhidos: {itens_escolhidos}\")\n",
    "print(f\"Peso total: {peso_total} g\")\n",
    "print(f\"Valor total: {melhor_valor}\")\n",
    "print(f\"Geração em que foi encontrada: {geracao_melhor}\")\n",
    "print(f\"Tempo de execução: {fim - inicio:.2f} segundos\")"
   ]
  }
 ],
 "metadata": {
  "kernelspec": {
   "display_name": "Python 3",
   "language": "python",
   "name": "python3"
  },
  "language_info": {
   "codemirror_mode": {
    "name": "ipython",
    "version": 3
   },
   "file_extension": ".py",
   "mimetype": "text/x-python",
   "name": "python",
   "nbconvert_exporter": "python",
   "pygments_lexer": "ipython3",
   "version": "3.13.5"
  }
 },
 "nbformat": 4,
 "nbformat_minor": 5
}
