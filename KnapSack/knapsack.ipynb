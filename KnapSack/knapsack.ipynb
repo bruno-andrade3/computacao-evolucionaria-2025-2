{
 "cells": [
  {
   "cell_type": "code",
   "execution_count": 45,
   "id": "d0217e45",
   "metadata": {},
   "outputs": [],
   "source": [
    "import time\n",
    "import numpy as np"
   ]
  },
  {
   "cell_type": "code",
   "execution_count": 46,
   "id": "8690c361",
   "metadata": {},
   "outputs": [],
   "source": [
    "pesos_dos_objetos = np.array([350, 250, 160, 120, 200, 100, 120, 220, 40, 80, 100, 300, 180, 250, 220, 150, 280, 310, 120, 160, 110, 210])\n",
    "valor_dos_objetos = np.array([300, 400, 450, 350, 250, 300, 200, 250, 150, 400, 350, 300, 450, 500, 350, 400, 200, 300, 250, 300, 150, 200])"
   ]
  },
  {
   "cell_type": "code",
   "execution_count": 47,
   "id": "7a96e802",
   "metadata": {},
   "outputs": [
    {
     "name": "stdout",
     "output_type": "stream",
     "text": [
      "tamanho da populacao: 10\n",
      "tamanho do genoma: 22\n",
      "taxa de mutacao: 0.05\n",
      "peso maximo: 3000\n"
     ]
    }
   ],
   "source": [
    "PESO_MAX = 3000\n",
    "tamanho_da_populacao = 10\n",
    "tamanho_do_genoma = np.size(pesos_dos_objetos)\n",
    "taxa_de_mutacao = 0.05\n",
    "\n",
    "print(f\"tamanho da populacao: {tamanho_da_populacao}\")\n",
    "print(f\"tamanho do genoma: {tamanho_do_genoma}\")\n",
    "print(f\"taxa de mutacao: {taxa_de_mutacao}\")\n",
    "print(f\"peso maximo: {PESO_MAX}\")"
   ]
  },
  {
   "cell_type": "code",
   "execution_count": 48,
   "id": "38f25757",
   "metadata": {},
   "outputs": [],
   "source": [
    "def gera_populacao(tamanho_da_populacao, tamanho_do_genoma):\n",
    "    return np.random.randint(2, size=(tamanho_da_populacao, tamanho_do_genoma))"
   ]
  },
  {
   "cell_type": "code",
   "execution_count": 49,
   "id": "714e7f72",
   "metadata": {},
   "outputs": [],
   "source": [
    "def fitness(populacao):\n",
    "    pesos = np.dot(populacao, pesos_dos_objetos)\n",
    "    soma_dos_pesos = np.sum(pesos)\n",
    "    compare = np.logical_not(pesos > np.full_like(np.shape(pesos), PESO_MAX))\n",
    "    #print((compare))\n",
    "\n",
    "    valores = np.dot(populacao, valor_dos_objetos)\n",
    "    valores = compare * valores\n",
    "    soma_dos_valores = np.sum(valores)\n",
    "    valor_max = np.max(valores)\n",
    "\n",
    "    return pesos, valores"
   ]
  },
  {
   "cell_type": "code",
   "execution_count": null,
   "id": "8a5fd6a0",
   "metadata": {},
   "outputs": [
    {
     "name": "stdout",
     "output_type": "stream",
     "text": [
      "População inicial: [[1 0 0 1 0 0 0 0 1 1 0 1 0 1 1 0 0 1 0 0 1 1]\n",
      " [0 0 1 0 1 0 1 1 1 0 1 1 1 0 1 0 1 1 1 1 1 1]\n",
      " [1 1 1 1 0 0 1 0 1 0 0 0 1 1 0 1 0 0 0 1 1 0]\n",
      " [0 0 1 0 0 0 0 1 0 0 1 0 1 0 0 1 1 1 0 0 1 0]\n",
      " [1 0 1 1 1 1 0 0 0 1 1 1 0 0 0 0 1 1 0 0 0 0]\n",
      " [1 1 1 1 1 0 1 0 1 0 0 1 1 1 1 1 1 1 0 1 1 0]\n",
      " [1 1 1 1 1 1 1 1 1 1 0 1 0 1 1 1 1 0 1 1 0 0]\n",
      " [0 0 1 0 0 1 0 0 1 1 0 1 1 1 1 1 0 1 0 1 0 0]\n",
      " [1 0 0 1 1 0 1 0 1 0 1 0 0 0 1 0 1 1 1 1 1 0]\n",
      " [1 1 0 0 1 0 0 0 0 0 1 1 1 0 1 0 0 0 1 0 0 1]]\n",
      "Fitness inicial: (array([1990, 2730, 1890, 1510, 2000, 3200, 3120, 1950, 2130, 1930]), array([3000, 4150, 3650, 2550, 3200,    0,    0, 3900, 3150, 2850]))\n",
      "0.0036668777465820312 segundos\n"
     ]
    }
   ],
   "source": [
    "inicio= time.time()\n",
    "\n",
    "populacao = gera_populacao(tamanho_da_populacao, tamanho_do_genoma)\n",
    "\n",
    "fit_score = fitness(populacao)\n",
    "\n",
    "print(f\"População inicial: {populacao}\")\n",
    "print(f\"Fitness inicial: {fit_score}\")\n",
    "\n",
    "ponto_de_crossover = np.random.randint(tamanho_do_genoma - 1)\n",
    "\n",
    "fim = time.time()\n",
    "delta = fim - inicio\n",
    "\n",
    "print(f\"{delta} segundos\")"
   ]
  }
 ],
 "metadata": {
  "kernelspec": {
   "display_name": "Python 3",
   "language": "python",
   "name": "python3"
  },
  "language_info": {
   "codemirror_mode": {
    "name": "ipython",
    "version": 3
   },
   "file_extension": ".py",
   "mimetype": "text/x-python",
   "name": "python",
   "nbconvert_exporter": "python",
   "pygments_lexer": "ipython3",
   "version": "3.13.5"
  }
 },
 "nbformat": 4,
 "nbformat_minor": 5
}
